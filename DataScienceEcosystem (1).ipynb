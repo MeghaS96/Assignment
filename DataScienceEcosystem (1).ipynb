{
 "cells": [
  {
   "cell_type": "markdown",
   "id": "8108b54e-4199-4289-a949-8462a82082f3",
   "metadata": {},
   "source": [
    "# Data Science Tools and Ecosystem"
   ]
  },
  {
   "cell_type": "markdown",
   "id": "7fa18c10-0350-42a2-826b-8446fdd4a24b",
   "metadata": {},
   "source": [
    "In this notebook, Data Science Tools and Ecosystem are summarized."
   ]
  },
  {
   "cell_type": "markdown",
   "id": "de5b4148-9b64-47e8-8d15-9eababc5f139",
   "metadata": {},
   "source": [
    "Some of the popular languages that Data Scientists use are:\n",
    "  \n",
    "    1. Python\n",
    "    2. R\n",
    "    3. SQL\n",
    "    4. Java\n",
    "    5. Scala"
   ]
  },
  {
   "cell_type": "markdown",
   "id": "f2eca2cc-6ba5-4b8b-9c93-643153c8dd26",
   "metadata": {},
   "source": [
    "Some of the popular languages that Data Scientists use are:\n",
    "  1. Python\n",
    "  2. R\n",
    "  3. SQL\n",
    "  4. Java\n",
    "  5. Scala"
   ]
  },
  {
   "cell_type": "markdown",
   "id": "5f7fd7f8-86b8-4dd9-9370-dc46f3c2129e",
   "metadata": {},
   "source": [
    "Some of the commonly used libraries used by Data Scientists include:\n",
    "1. Pandas\n",
    "2. NumPy\n",
    "3. Scikit-Learn\n",
    "4. Matplotlib\n",
    "5. Seaborn"
   ]
  },
  {
   "cell_type": "markdown",
   "id": "29606a4d-6fa6-470e-aeed-9d7b28f6a2fb",
   "metadata": {},
   "source": [
    "|Data Science Tools|\n",
    "|------------------|\n",
    "|IBM Watson Studio |\n",
    "|Visual studio Code|\n",
    "|TensorFlow        |"
   ]
  },
  {
   "cell_type": "markdown",
   "id": "46742048-5c76-4b23-8578-d87f890093b3",
   "metadata": {},
   "source": [
    "### Below are a few examples of evaluating arithmetic expressions in Python\n"
   ]
  },
  {
   "cell_type": "code",
   "execution_count": 1,
   "id": "2f90618b-0607-4df0-8b28-0103f9c4f94a",
   "metadata": {},
   "outputs": [
    {
     "data": {
      "text/plain": [
       "17"
      ]
     },
     "execution_count": 1,
     "metadata": {},
     "output_type": "execute_result"
    }
   ],
   "source": [
    "#This a simple arithmetic expression to mutiply then add integers\n",
    "(3*4)+5"
   ]
  },
  {
   "cell_type": "code",
   "execution_count": 2,
   "id": "ba11a414-37d0-40ed-b52c-6a6cf0a447a3",
   "metadata": {},
   "outputs": [
    {
     "data": {
      "text/plain": [
       "3.3333333333333335"
      ]
     },
     "execution_count": 2,
     "metadata": {},
     "output_type": "execute_result"
    }
   ],
   "source": [
    "# This will convert 200 minutes to hours by diving by 60\n",
    "200/60"
   ]
  },
  {
   "cell_type": "markdown",
   "id": "8032a6be-1fb7-4808-9e32-3ef22a9653fc",
   "metadata": {},
   "source": [
    "**Objectives:**\n",
    "* Python\n",
    "* JavaScript\n",
    "* Java\n",
    "* R\n",
    "* C++"
   ]
  },
  {
   "cell_type": "markdown",
   "id": "27fd5968-b408-404b-91f5-d79572156bcf",
   "metadata": {},
   "source": [
    "## Author\n",
    "Megha"
   ]
  },
  {
   "cell_type": "code",
   "execution_count": null,
   "id": "d0453450-672a-4b6e-8f76-e0c42003716a",
   "metadata": {},
   "outputs": [],
   "source": []
  }
 ],
 "metadata": {
  "kernelspec": {
   "display_name": "Python",
   "language": "python",
   "name": "conda-env-python-py"
  },
  "language_info": {
   "codemirror_mode": {
    "name": "ipython",
    "version": 3
   },
   "file_extension": ".py",
   "mimetype": "text/x-python",
   "name": "python",
   "nbconvert_exporter": "python",
   "pygments_lexer": "ipython3",
   "version": "3.7.12"
  }
 },
 "nbformat": 4,
 "nbformat_minor": 5
}
